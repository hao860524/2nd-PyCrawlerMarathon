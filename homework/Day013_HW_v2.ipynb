{
 "cells": [
  {
   "cell_type": "markdown",
   "metadata": {},
   "source": [
    "# PTT 網路爬蟲實作練習\n",
    "\n",
    "\n",
    "* 能夠利用 Request + BeatifulSour 撰寫爬蟲，並存放到合適的資料結構\n"
   ]
  },
  {
   "cell_type": "markdown",
   "metadata": {},
   "source": [
    "## 作業目標\n",
    "\n",
    "根據範例 ，完成以下問題：\n",
    "\n",
    "* ① 印出最新文章的「作者」「標題」「時間」\n",
    "* ② 印出第一頁所有文章的「作者」「標題」「時間」\n"
   ]
  },
  {
   "cell_type": "markdown",
   "metadata": {},
   "source": [
    "### ① 印出最新文章的「作者」「標題」「時間」"
   ]
  },
  {
   "cell_type": "code",
   "execution_count": 32,
   "metadata": {},
   "outputs": [
    {
     "data": {
      "text/plain": [
       "{'title': 'Re: [討論] Curry是不是現今有成就也不被認可的球員?',\n",
       " 'author': 'vogue38 (這年)',\n",
       " 'date': datetime.datetime(2020, 3, 9, 22, 27, 38)}"
      ]
     },
     "execution_count": 32,
     "metadata": {},
     "output_type": "execute_result"
    }
   ],
   "source": [
    "import requests\n",
    "from bs4 import BeautifulSoup\n",
    "import datetime\n",
    "\n",
    "url = 'https://www.ptt.cc/bbs/NBA/index.html'\n",
    "r = requests.get(url,cookies={'over18':'1'})\n",
    "\n",
    "soup = BeautifulSoup(r.text, \"html5lib\")\n",
    "\n",
    "posts = []\n",
    "\n",
    "for d in soup.find_all(class_=\"title\"):\n",
    "    post = {}\n",
    "    post['title'] = d.text.replace('\\t', '').replace('\\n', '')\n",
    "    try:\n",
    "        r = BeautifulSoup(requests.get('https://www.ptt.cc'+d.find('a')['href'],cookies={'over18':'1'}).text, \"html5lib\")\n",
    "        post['author'] = r.find_all(class_='article-meta-value')[0].text\n",
    "        post['date'] = r.find_all(class_='article-meta-value')[3].text\n",
    "    except:\n",
    "        continue\n",
    "    post['date'] = datetime.datetime.strptime(post['date'], \"%a %b  %d %H:%M:%S %Y\") #轉成datetime格式\n",
    "    #print(post['date'])\n",
    "    \n",
    "    posts.append(post)\n",
    "\n",
    "\n",
    "posts = sorted(posts, key= lambda x: x['date']) #########\n",
    "posts[-1]"
   ]
  },
  {
   "cell_type": "markdown",
   "metadata": {},
   "source": [
    "### ② 印出第一頁所有文章的「作者」「標題」「時間」"
   ]
  },
  {
   "cell_type": "code",
   "execution_count": 33,
   "metadata": {},
   "outputs": [
    {
     "name": "stdout",
     "output_type": "stream",
     "text": [
      "標題:  [情報] 蘭德爾：羅賓遜不用擔心技犯，我會幫他付\n",
      "作者: PttGod (PttGod)\n",
      "時間: Mon Mar  9 20:12:28 2020\n",
      "\n",
      "標題:  Re: [情報] SNY記者：一些籃網老將質疑阿特金森能否\n",
      "作者: Ginpunch (南城阿鬼)\n",
      "時間: Mon Mar  9 20:23:14 2020\n",
      "\n",
      "標題:  [新聞] 重建有功仍再見 波總幫說話\n",
      "作者: go190214 (天空之島拉普達)\n",
      "時間: Mon Mar  9 20:23:22 2020\n",
      "\n",
      "標題:  [花邊] 憤怒的獅王！詹姆斯發怒吼慶祝照自比雄獅\n",
      "作者: PttGod (PttGod)\n",
      "時間: Mon Mar  9 20:41:36 2020\n",
      "\n",
      "標題:  Re: [討論] LBJ現今擁有的成就已經能超過賈霸了嗎\n",
      "作者: timmyen (Ako)\n",
      "時間: Mon Mar  9 21:48:51 2020\n",
      "\n",
      "標題:  [新聞] 懊悔年少不懂理財！退役NBA巨星韋德脫手\n",
      "作者: asdf1256 (guest)\n",
      "時間: Mon Mar  9 22:11:28 2020\n",
      "\n",
      "標題:  Re: [討論] Curry是不是現今有成就也不被認可的球員?\n",
      "作者: vogue38 (這年)\n",
      "時間: Mon Mar  9 22:27:38 2020\n",
      "\n",
      "標題:  [公告] 板規v6.8\n",
      "標題:  [公告] 版主上任相關事項 \n",
      "作者: qazwsx879345 (Rajon Rondo)\n",
      "時間: Fri Oct 25 10:44:03 2019\n",
      "\n",
      "標題:  [情報] SEASON Schedule 賽程 March 19–20\n",
      "作者: Acetoxy (阿斯)\n",
      "時間: Mon Mar  2 01:19:40 2020\n",
      "\n",
      "標題:  Fw: [公告] 即日起開放 NTU 信箱註冊帳號\n",
      "作者: Vedan (味丹)\n",
      "時間: Wed Mar  4 12:50:19 2020\n",
      "\n",
      "標題:  [公告] 第一次被退文，可在三天後刪除退文\n",
      "作者: Vedan (味丹)\n",
      "時間: Mon Mar  9 11:44:26 2020\n",
      "\n"
     ]
    }
   ],
   "source": [
    "for d in soup.find_all(class_=\"title\"):\n",
    "    print('標題: ',d.text.replace('\\t', '').replace('\\n', ''))\n",
    "    try:\n",
    "        r = BeautifulSoup(requests.get('https://www.ptt.cc'+d.find('a')['href'],cookies={'over18':'1'}).text, \"html5lib\")\n",
    "        print('作者: ' + r.find_all(class_='article-meta-value')[0].text)\n",
    "        print('時間: ' + r.find_all(class_='article-meta-value')[3].text,end=\"\\n\\n\")\n",
    "    except:\n",
    "        continue"
   ]
  },
  {
   "cell_type": "markdown",
   "metadata": {},
   "source": [
    "### ③ 試著爬爬看其他版的文章"
   ]
  },
  {
   "cell_type": "code",
   "execution_count": 37,
   "metadata": {},
   "outputs": [
    {
     "name": "stdout",
     "output_type": "stream",
     "text": [
      "[公告] 八卦板板規(2019.08.21) arsonlolita (蘿莉塔) 2019-08-21 08:33:39\n",
      "[公告] 三月份置底閒聊文 DreamYeh (天使) 2020-03-03 11:34:55\n",
      "[公告] 八卦板政治文規範草案開始討論 DreamYeh (天使) 2020-03-05 02:17:05\n",
      "[公告] 八卦優文推薦申請 DreamYeh (天使) 2020-03-05 16:05:06\n",
      "[公告] 板主報名截止時間 3/10 11:07:43 arsonlolita (板主) 2020-03-09 15:24:08\n",
      "Re: [爆卦] 最新戰況 台灣排名32 pikakami (神楽坂上) 2020-03-09 22:21:30\n",
      "[問卦] 美股熔斷的英文？？ meltdown (自己只有自己而已) 2020-03-09 22:22:05\n",
      "[問卦] 股票粗估賠了一萬怎麼釋懷? glthe1 (姆咪教-金毛獅王) 2020-03-09 22:23:00\n",
      "[問卦] 台灣動漫展這麼多 卻沒培養漫畫人才？ nobody0303 () 2020-03-09 22:23:10\n",
      "[問卦] 今晚公園484爆滿 AngelsDemon (你媽把你養大跑去當太監) 2020-03-09 22:23:35\n",
      "Re: [問卦] 急，中國人問灣灣憑什麼有優越感？ moon5566 (月) 2020-03-09 22:23:46\n",
      "[新聞] 美股開盤重逾1,800點 川普：好多假新聞 koei0001 (魯國人) 2020-03-09 22:24:18\n",
      "Re: [問卦] 玩命關頭來台灣拍要飇哪一條路最爽? rfvujm (Rfvujm) 2020-03-09 22:24:31\n",
      "[問卦] 年收高薪得三高vs月入少於2w健康活？ smileboy2016 (Sand Tree Pad) 2020-03-09 22:24:35\n",
      "[問卦] 把哪些術語掛嘴邊才能看起來很懂股票 missingkid () 2020-03-09 22:24:57\n",
      "Re: [問卦] FF系列評價最高的是FF7還是FF10? chronoer (頻率) 2020-03-09 22:25:02\n",
      "[問卦]  以地名命名的病毒？ EOMing (換胃思考) 2020-03-09 22:26:32\n",
      "[問卦] 巴菲特現在再想什麼？ sushi11 (三星非洲人路過) 2020-03-09 22:26:54\n",
      "Re: [問卦] 急，中國人問灣灣憑什麼有優越感？ doraBBO (天才小釣手) 2020-03-09 22:28:11\n",
      "Re: [爆卦] 德國決定接收在希土邊界的難民 around14357 (arrd) 2020-03-09 22:28:32\n",
      "[問卦] 有買VIX call的人現在在想什麼 ousapas (komica123) 2020-03-09 22:28:35\n",
      "[問卦] 有沒有叫julia是不是都是美女的八卦?? kerkerson (高處不勝寒) 2020-03-09 22:29:02\n",
      "[問卦] 中國是不是讓世界聽到東方巨龍的怒吼了 zjes40604 (癡漢衝衝衝) 2020-03-09 22:30:48\n"
     ]
    }
   ],
   "source": [
    "url = 'https://www.ptt.cc/bbs/Gossiping/index.html'\n",
    "r = requests.get(url,cookies={'over18':'1'})\n",
    "\n",
    "soup = BeautifulSoup(r.text, \"html5lib\")\n",
    "\n",
    "posts = []\n",
    "\n",
    "for d in soup.find_all(class_=\"title\"):\n",
    "    post = {}\n",
    "    post['title'] = d.text.replace('\\t', '').replace('\\n', '')\n",
    "    try:\n",
    "        r = BeautifulSoup(requests.get('https://www.ptt.cc'+d.find('a')['href'],cookies={'over18':'1'}).text, \"html5lib\")\n",
    "        post['author'] = r.find_all(class_='article-meta-value')[0].text\n",
    "        post['date'] = r.find_all(class_='article-meta-value')[3].text\n",
    "    except:\n",
    "        continue\n",
    "    post['date'] = datetime.datetime.strptime(post['date'], \"%a %b  %d %H:%M:%S %Y\")\n",
    "    #print(post['date'])\n",
    "    posts.append(post)\n",
    "\n",
    "\n",
    "posts = sorted(posts, key= lambda x: x['date']) #########\n",
    "\n",
    "for p in posts:\n",
    "    print(p['title'],p['author'],p['date'])\n",
    "\n",
    "# goss = soup.find_all(class_='title')\n",
    "# for g in goss:\n",
    "#     if g.find('a').string!=None:\n",
    "#         print(g.find('a').string)"
   ]
  },
  {
   "cell_type": "code",
   "execution_count": null,
   "metadata": {},
   "outputs": [],
   "source": []
  }
 ],
 "metadata": {
  "kernelspec": {
   "display_name": "Python 3",
   "language": "python",
   "name": "python3"
  },
  "language_info": {
   "codemirror_mode": {
    "name": "ipython",
    "version": 3
   },
   "file_extension": ".py",
   "mimetype": "text/x-python",
   "name": "python",
   "nbconvert_exporter": "python",
   "pygments_lexer": "ipython3",
   "version": "3.7.4"
  }
 },
 "nbformat": 4,
 "nbformat_minor": 2
}
