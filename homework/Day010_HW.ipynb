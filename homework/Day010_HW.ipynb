{
 "cells": [
  {
   "cell_type": "markdown",
   "metadata": {},
   "source": [
    "# 其他工具：Grab、PyQuery\n",
    "\n",
    "\n",
    "* 利用 Grab 套件的存取 HTML 資源\n",
    "* 利用 PyQuery 套件的解析 HTML 格式\n"
   ]
  },
  {
   "cell_type": "markdown",
   "metadata": {},
   "source": [
    "## 作業目標\n",
    "\n",
    "將之前用 requests + beatifulsoup 實作的方式，改寫成 grab + pyquery，並且比較有哪些地方不同。\n",
    "\n",
    "\n",
    "\n"
   ]
  },
  {
   "cell_type": "markdown",
   "metadata": {},
   "source": [
    "## requests + BeautifulSoup\n"
   ]
  },
  {
   "cell_type": "code",
   "execution_count": 13,
   "metadata": {},
   "outputs": [
    {
     "name": "stdout",
     "output_type": "stream",
     "text": [
      "<title>第二屆 Python 網路爬蟲實戰研習馬拉松</title> \n",
      "\n",
      "<!DOCTYPE html>\n",
      "<html lang=\"zh-Hant-TW\"><head><meta charset=\"utf-8\"/><meta content=\"width=device-width,initial-scale=1,maximum-scale=1,user-scalable=0,shrink-to-fit=no\" name=\"viewport\"/><meta content=\"IE=edge\" http-equiv=\"X-UA-Compatible\"/><meta content=\"zh-tw\" http-equiv=\"Content-Language\"/><meta content=\"第二屆 Python 網路爬蟲實戰研習馬拉松\" property=\"og:title\"/><meta content=\"本課程從網路爬蟲的基礎知識談起，包括靜態網頁爬蟲技術、動能網頁爬蟲技術、網站爬蟲框架、各種進階爬蟲技術等實用技術完整涵蓋。透過大量的程式實作，逐步地幫學員培養即戰力，我們同時邀集了網路爬蟲領域的資料科學家為您解答學習過程中的各種疑難雜症，扎實的學習內容讓您每天只要花一點時間，就可以完整地學會網路爬蟲技術。\" property=\"og:description\"/><meta content=\"https://pycrawler-2.cupoy.com/images/landing.png\" property=\"og:image\"/><meta content=\"https://pycrawler-2.cupoy.com/\" property=\"og:url\"/><meta content=\"website\" property=\"og:type\"/><meta content=\"本課程從網路爬蟲的基礎知識談起，包括靜態網頁爬蟲技術、動能網頁爬蟲技術、網站爬蟲框架、各種進階爬蟲技術等實用技術完整涵蓋。透過大量的程式實作，逐步地幫學員培養即戰力，我們同時邀集了網路爬蟲領域的資料科學家為您解答學習過程中的各種疑難雜症，扎實的學習內容讓您每天只要花一點時間，就可以完整地學會網路爬蟲技術。\" name=\"description\"/><meta content=\"\" property=\"keywords\"/><link href=\"/manifest.json\" rel=\"manifest\"/><link href=\"/favicon.ico\" rel=\"shortcut icon\"/><link as=\"style\" href=\"/css/material-design-iconic-font/css/material-design-iconic-font.css\" media=\"none\" onload='this.media=\"all\"' rel=\"stylesheet\"/><link as=\"style\" href=\"/css/icomoon/style.css\" media=\"none\" onload='this.media=\"all\"' rel=\"stylesheet\"/><link href=\"https://fonts.googleapis.com/css?family=Open+Sans:400,600,300,300italic,400italic,600italic,700,700italic,800,800italic\" onload='this.media=\"all\"' rel=\"stylesheet\"/><link href=\"/vendor/prism.min.css\" rel=\"stylesheet\"/><script src=\"/vendor/marked.min.js\"></script><script data-manual=\"\" src=\"/vendor/prism.min.js\"></script><script data-manual=\"\" src=\"/vendor/prism-python.min.js\"></script><script src=\"https://www.jsdelivr.com/package/npm/pdfjs-dist\"></script><script src=\"https://cdnjs.com/libraries/pdf.js\"></script><script data-manual=\"\" src=\"/vendor/nbv.js\"></script><script type=\"text/javascript\">!function(a,n,e){function t(){var e=n.getElementsByTagName(\"script\")[0],t=n.createElement(\"script\");t.type=\"text/javascript\",t.async=!0,t.src=\"https://beacon-v2.helpscout.net\",e.parentNode.insertBefore(t,e)}if(a.Beacon=e=function(e,t,n){a.Beacon.readyQueue.push({method:e,options:t,data:n})},e.readyQueue=[],\"complete\"===n.readyState)return t();a.attachEvent?a.attachEvent(\"onload\",t):a.addEventListener(\"load\",t,!1)}(window,document,window.Beacon||function(){})</script><script type=\"text/javascript\">window.Beacon(\"init\",\"8bfe921f-8f93-425b-bd24-49d2fc223f62\")</script><base href=\"/\"/><title>第二屆 Python 網路爬蟲實戰研習馬拉松</title><link href=\"/static/css/6.5bb98248.chunk.css\" rel=\"stylesheet\"/><link href=\"/static/css/main.bc42e0c9.chunk.css\" rel=\"stylesheet\"/></head><body><noscript>You need to enable JavaScript to run this app.</noscript><div id=\"root\"></div><script>!function(u){function e(e){for(var t,r,n=e[0],o=e[1],c=e[2],a=0,f=[];a<n.length;a++)r=n[a],s[r]&&f.push(s[r][0]),s[r]=0;for(t in o)Object.prototype.hasOwnProperty.call(o,t)&&(u[t]=o[t]);for(h&&h(e);f.length;)f.shift()();return l.push.apply(l,c||[]),i()}function i(){for(var e,t=0;t<l.length;t++){for(var r=l[t],n=!0,o=1;o<r.length;o++){var c=r[o];0!==s[c]&&(n=!1)}n&&(l.splice(t--,1),e=p(p.s=r[0]))}return e}var r={},d={5:0},s={5:0},l=[];function p(e){if(r[e])return r[e].exports;var t=r[e]={i:e,l:!1,exports:{}};return u[e].call(t.exports,t,t.exports,p),t.l=!0,t.exports}p.e=function(l){var e=[];d[l]?e.push(d[l]):0!==d[l]&&{7:1}[l]&&e.push(d[l]=new Promise(function(e,n){for(var t=\"static/css/\"+({}[l]||l)+\".\"+{0:\"31d6cfe0\",1:\"31d6cfe0\",2:\"31d6cfe0\",3:\"31d6cfe0\",7:\"7812b4f9\",8:\"31d6cfe0\",9:\"31d6cfe0\",10:\"31d6cfe0\",11:\"31d6cfe0\",12:\"31d6cfe0\",13:\"31d6cfe0\",14:\"31d6cfe0\",15:\"31d6cfe0\",16:\"31d6cfe0\",17:\"31d6cfe0\",18:\"31d6cfe0\"}[l]+\".chunk.css\",o=p.p+t,r=document.getElementsByTagName(\"link\"),c=0;c<r.length;c++){var a=(u=r[c]).getAttribute(\"data-href\")||u.getAttribute(\"href\");if(\"stylesheet\"===u.rel&&(a===t||a===o))return e()}var f=document.getElementsByTagName(\"style\");for(c=0;c<f.length;c++){var u;if((a=(u=f[c]).getAttribute(\"data-href\"))===t||a===o)return e()}var i=document.createElement(\"link\");i.rel=\"stylesheet\",i.type=\"text/css\",i.onload=e,i.onerror=function(e){var t=e&&e.target&&e.target.src||o,r=new Error(\"Loading CSS chunk \"+l+\" failed.\\n(\"+t+\")\");r.request=t,delete d[l],i.parentNode.removeChild(i),n(r)},i.href=o,document.getElementsByTagName(\"head\")[0].appendChild(i)}).then(function(){d[l]=0}));var r=s[l];if(0!==r)if(r)e.push(r[2]);else{var t=new Promise(function(e,t){r=s[l]=[e,t]});e.push(r[2]=t);var n,c=document.createElement(\"script\");c.charset=\"utf-8\",c.timeout=120,p.nc&&c.setAttribute(\"nonce\",p.nc),c.src=p.p+\"static/js/\"+({}[l]||l)+\".\"+{0:\"e4c9aca3\",1:\"20ef1f0d\",2:\"36c208fa\",3:\"6b439ba8\",7:\"be1b6cf5\",8:\"93b36812\",9:\"723f3ac6\",10:\"bc9077ea\",11:\"2b35f3c7\",12:\"f09e0f72\",13:\"12e05c41\",14:\"1c1b410c\",15:\"09c94425\",16:\"bc0efd26\",17:\"fd34342d\",18:\"5605a791\"}[l]+\".chunk.js\",n=function(e){c.onerror=c.onload=null,clearTimeout(a);var t=s[l];if(0!==t){if(t){var r=e&&(\"load\"===e.type?\"missing\":e.type),n=e&&e.target&&e.target.src,o=new Error(\"Loading chunk \"+l+\" failed.\\n(\"+r+\": \"+n+\")\");o.type=r,o.request=n,t[1](o)}s[l]=void 0}};var a=setTimeout(function(){n({type:\"timeout\",target:c})},12e4);c.onerror=c.onload=n,document.head.appendChild(c)}return Promise.all(e)},p.m=u,p.c=r,p.d=function(e,t,r){p.o(e,t)||Object.defineProperty(e,t,{enumerable:!0,get:r})},p.r=function(e){\"undefined\"!=typeof Symbol&&Symbol.toStringTag&&Object.defineProperty(e,Symbol.toStringTag,{value:\"Module\"}),Object.defineProperty(e,\"__esModule\",{value:!0})},p.t=function(t,e){if(1&e&&(t=p(t)),8&e)return t;if(4&e&&\"object\"==typeof t&&t&&t.__esModule)return t;var r=Object.create(null);if(p.r(r),Object.defineProperty(r,\"default\",{enumerable:!0,value:t}),2&e&&\"string\"!=typeof t)for(var n in t)p.d(r,n,function(e){return t[e]}.bind(null,n));return r},p.n=function(e){var t=e&&e.__esModule?function(){return e.default}:function(){return e};return p.d(t,\"a\",t),t},p.o=function(e,t){return Object.prototype.hasOwnProperty.call(e,t)},p.p=\"/\",p.oe=function(e){throw console.error(e),e};var t=window.webpackJsonp=window.webpackJsonp||[],n=t.push.bind(t);t.push=e,t=t.slice();for(var o=0;o<t.length;o++)e(t[o]);var h=n;i()}([])</script><script src=\"/static/js/6.2e7d34e6.chunk.js\"></script><script src=\"/static/js/main.3dbe2ada.chunk.js\"></script></body></html>\n"
     ]
    }
   ],
   "source": [
    "import requests\n",
    "\n",
    "r = requests.get('https://pycrawler-2.cupoy.com/')\n",
    "\n",
    "from bs4 import BeautifulSoup\n",
    "\n",
    "soup = BeautifulSoup(r.text, \"html5lib\")\n",
    "print(soup.title,'\\n')\n",
    "print(soup)"
   ]
  },
  {
   "cell_type": "markdown",
   "metadata": {},
   "source": [
    "## Grab + PyQuery"
   ]
  },
  {
   "cell_type": "code",
   "execution_count": 14,
   "metadata": {
    "scrolled": false
   },
   "outputs": [
    {
     "name": "stdout",
     "output_type": "stream",
     "text": [
      "<class 'pyquery.pyquery.PyQuery'> 第二屆 Python 網路爬蟲實戰研習馬拉松\n",
      "<html lang=\"zh-Hant-TW\"><head><meta charset=\"utf-8\"/><meta name=\"viewport\" content=\"width=device-width,initial-scale=1,maximum-scale=1,user-scalable=0,shrink-to-fit=no\"/><meta http-equiv=\"X-UA-Compatible\" content=\"IE=edge\"/><meta http-equiv=\"Content-Language\" content=\"zh-tw\"/><meta property=\"og:title\" content=\"第二屆 Python 網路爬蟲實戰研習馬拉松\"/><meta property=\"og:description\" content=\"本課程從網路爬蟲的基礎知識談起，包括靜態網頁爬蟲技術、動能網頁爬蟲技術、網站爬蟲框架、各種進階爬蟲技術等實用技術完整涵蓋。透過大量的程式實作，逐步地幫學員培養即戰力，我們同時邀集了網路爬蟲領域的資料科學家為您解答學習過程中的各種疑難雜症，扎實的學習內容讓您每天只要花一點時間，就可以完整地學會網路爬蟲技術。\"/><meta property=\"og:image\" content=\"https://pycrawler-2.cupoy.com/images/landing.png\"/><meta property=\"og:url\" content=\"https://pycrawler-2.cupoy.com/\"/><meta property=\"og:type\" content=\"website\"/><meta name=\"description\" content=\"本課程從網路爬蟲的基礎知識談起，包括靜態網頁爬蟲技術、動能網頁爬蟲技術、網站爬蟲框架、各種進階爬蟲技術等實用技術完整涵蓋。透過大量的程式實作，逐步地幫學員培養即戰力，我們同時邀集了網路爬蟲領域的資料科學家為您解答學習過程中的各種疑難雜症，扎實的學習內容讓您每天只要花一點時間，就可以完整地學會網路爬蟲技術。\"/><meta property=\"keywords\" content=\"\"/><link rel=\"manifest\" href=\"/manifest.json\"/><link rel=\"shortcut icon\" href=\"/favicon.ico\"/><link rel=\"stylesheet\" href=\"/css/material-design-iconic-font/css/material-design-iconic-font.css\" media=\"none\" as=\"style\" onload=\"this.media=&quot;all&quot;\"/><link rel=\"stylesheet\" href=\"/css/icomoon/style.css\" media=\"none\" as=\"style\" onload=\"this.media=&quot;all&quot;\"/><link rel=\"stylesheet\" href=\"https://fonts.googleapis.com/css?family=Open+Sans:400,600,300,300italic,400italic,600italic,700,700italic,800,800italic\" onload=\"this.media=&quot;all&quot;\"/><link rel=\"stylesheet\" href=\"/vendor/prism.min.css\"/><script src=\"/vendor/marked.min.js\"/><script src=\"/vendor/prism.min.js\" data-manual=\"\"/><script src=\"/vendor/prism-python.min.js\" data-manual=\"\"/><script src=\"https://www.jsdelivr.com/package/npm/pdfjs-dist\"/><script src=\"https://cdnjs.com/libraries/pdf.js\"/><script src=\"/vendor/nbv.js\" data-manual=\"\"/><script type=\"text/javascript\">!function(a,n,e){function t(){var e=n.getElementsByTagName(\"script\")[0],t=n.createElement(\"script\");t.type=\"text/javascript\",t.async=!0,t.src=\"https://beacon-v2.helpscout.net\",e.parentNode.insertBefore(t,e)}if(a.Beacon=e=function(e,t,n){a.Beacon.readyQueue.push({method:e,options:t,data:n})},e.readyQueue=[],\"complete\"===n.readyState)return t();a.attachEvent?a.attachEvent(\"onload\",t):a.addEventListener(\"load\",t,!1)}(window,document,window.Beacon||function(){})</script><script type=\"text/javascript\">window.Beacon(\"init\",\"8bfe921f-8f93-425b-bd24-49d2fc223f62\")</script><base href=\"/\"/><title>第二屆 Python 網路爬蟲實戰研習馬拉松</title><link href=\"/static/css/6.5bb98248.chunk.css\" rel=\"stylesheet\"/><link href=\"/static/css/main.bc42e0c9.chunk.css\" rel=\"stylesheet\"/></head><body><noscript>You need to enable JavaScript to run this app.</noscript><div id=\"root\"/><script>!function(u){function e(e){for(var t,r,n=e[0],o=e[1],c=e[2],a=0,f=[];a&lt;n.length;a++)r=n[a],s[r]&amp;&amp;f.push(s[r][0]),s[r]=0;for(t in o)Object.prototype.hasOwnProperty.call(o,t)&amp;&amp;(u[t]=o[t]);for(h&amp;&amp;h(e);f.length;)f.shift()();return l.push.apply(l,c||[]),i()}function i(){for(var e,t=0;t&lt;l.length;t++){for(var r=l[t],n=!0,o=1;o&lt;r.length;o++){var c=r[o];0!==s[c]&amp;&amp;(n=!1)}n&amp;&amp;(l.splice(t--,1),e=p(p.s=r[0]))}return e}var r={},d={5:0},s={5:0},l=[];function p(e){if(r[e])return r[e].exports;var t=r[e]={i:e,l:!1,exports:{}};return u[e].call(t.exports,t,t.exports,p),t.l=!0,t.exports}p.e=function(l){var e=[];d[l]?e.push(d[l]):0!==d[l]&amp;&amp;{7:1}[l]&amp;&amp;e.push(d[l]=new Promise(function(e,n){for(var t=\"static/css/\"+({}[l]||l)+\".\"+{0:\"31d6cfe0\",1:\"31d6cfe0\",2:\"31d6cfe0\",3:\"31d6cfe0\",7:\"7812b4f9\",8:\"31d6cfe0\",9:\"31d6cfe0\",10:\"31d6cfe0\",11:\"31d6cfe0\",12:\"31d6cfe0\",13:\"31d6cfe0\",14:\"31d6cfe0\",15:\"31d6cfe0\",16:\"31d6cfe0\",17:\"31d6cfe0\",18:\"31d6cfe0\"}[l]+\".chunk.css\",o=p.p+t,r=document.getElementsByTagName(\"link\"),c=0;c&lt;r.length;c++){var a=(u=r[c]).getAttribute(\"data-href\")||u.getAttribute(\"href\");if(\"stylesheet\"===u.rel&amp;&amp;(a===t||a===o))return e()}var f=document.getElementsByTagName(\"style\");for(c=0;c&lt;f.length;c++){var u;if((a=(u=f[c]).getAttribute(\"data-href\"))===t||a===o)return e()}var i=document.createElement(\"link\");i.rel=\"stylesheet\",i.type=\"text/css\",i.onload=e,i.onerror=function(e){var t=e&amp;&amp;e.target&amp;&amp;e.target.src||o,r=new Error(\"Loading CSS chunk \"+l+\" failed.\\n(\"+t+\")\");r.request=t,delete d[l],i.parentNode.removeChild(i),n(r)},i.href=o,document.getElementsByTagName(\"head\")[0].appendChild(i)}).then(function(){d[l]=0}));var r=s[l];if(0!==r)if(r)e.push(r[2]);else{var t=new Promise(function(e,t){r=s[l]=[e,t]});e.push(r[2]=t);var n,c=document.createElement(\"script\");c.charset=\"utf-8\",c.timeout=120,p.nc&amp;&amp;c.setAttribute(\"nonce\",p.nc),c.src=p.p+\"static/js/\"+({}[l]||l)+\".\"+{0:\"e4c9aca3\",1:\"20ef1f0d\",2:\"36c208fa\",3:\"6b439ba8\",7:\"be1b6cf5\",8:\"93b36812\",9:\"723f3ac6\",10:\"bc9077ea\",11:\"2b35f3c7\",12:\"f09e0f72\",13:\"12e05c41\",14:\"1c1b410c\",15:\"09c94425\",16:\"bc0efd26\",17:\"fd34342d\",18:\"5605a791\"}[l]+\".chunk.js\",n=function(e){c.onerror=c.onload=null,clearTimeout(a);var t=s[l];if(0!==t){if(t){var r=e&amp;&amp;(\"load\"===e.type?\"missing\":e.type),n=e&amp;&amp;e.target&amp;&amp;e.target.src,o=new Error(\"Loading chunk \"+l+\" failed.\\n(\"+r+\": \"+n+\")\");o.type=r,o.request=n,t[1](o)}s[l]=void 0}};var a=setTimeout(function(){n({type:\"timeout\",target:c})},12e4);c.onerror=c.onload=n,document.head.appendChild(c)}return Promise.all(e)},p.m=u,p.c=r,p.d=function(e,t,r){p.o(e,t)||Object.defineProperty(e,t,{enumerable:!0,get:r})},p.r=function(e){\"undefined\"!=typeof Symbol&amp;&amp;Symbol.toStringTag&amp;&amp;Object.defineProperty(e,Symbol.toStringTag,{value:\"Module\"}),Object.defineProperty(e,\"__esModule\",{value:!0})},p.t=function(t,e){if(1&amp;e&amp;&amp;(t=p(t)),8&amp;e)return t;if(4&amp;e&amp;&amp;\"object\"==typeof t&amp;&amp;t&amp;&amp;t.__esModule)return t;var r=Object.create(null);if(p.r(r),Object.defineProperty(r,\"default\",{enumerable:!0,value:t}),2&amp;e&amp;&amp;\"string\"!=typeof t)for(var n in t)p.d(r,n,function(e){return t[e]}.bind(null,n));return r},p.n=function(e){var t=e&amp;&amp;e.__esModule?function(){return e.default}:function(){return e};return p.d(t,\"a\",t),t},p.o=function(e,t){return Object.prototype.hasOwnProperty.call(e,t)},p.p=\"/\",p.oe=function(e){throw console.error(e),e};var t=window.webpackJsonp=window.webpackJsonp||[],n=t.push.bind(t);t.push=e,t=t.slice();for(var o=0;o&lt;t.length;o++)e(t[o]);var h=n;i()}([])</script><script src=\"/static/js/6.2e7d34e6.chunk.js\"/><script src=\"/static/js/main.3dbe2ada.chunk.js\"/></body></html>\n"
     ]
    }
   ],
   "source": [
    "# Grab\n",
    "from grab import Grab\n",
    "g = Grab()\n",
    "resp = g.go('https://pycrawler-2.cupoy.com/')\n",
    "# resp.body\n",
    "\n",
    "# PyQuery\n",
    "from pyquery import PyQuery as pq\n",
    "doc = pq(resp.body)\n",
    "title = doc('title')\n",
    "print(type(title), title.text())\n",
    "print(doc)"
   ]
  },
  {
   "cell_type": "code",
   "execution_count": null,
   "metadata": {},
   "outputs": [],
   "source": []
  }
 ],
 "metadata": {
  "kernelspec": {
   "display_name": "Python 3",
   "language": "python",
   "name": "python3"
  },
  "language_info": {
   "codemirror_mode": {
    "name": "ipython",
    "version": 3
   },
   "file_extension": ".py",
   "mimetype": "text/x-python",
   "name": "python",
   "nbconvert_exporter": "python",
   "pygments_lexer": "ipython3",
   "version": "3.7.4"
  }
 },
 "nbformat": 4,
 "nbformat_minor": 2
}
