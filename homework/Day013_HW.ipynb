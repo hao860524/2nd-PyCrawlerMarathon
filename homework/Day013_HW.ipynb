{
 "cells": [
  {
   "cell_type": "markdown",
   "metadata": {},
   "source": [
    "# PTT 網路爬蟲實作練習\n",
    "\n",
    "\n",
    "* 能夠利用 Request + BeatifulSour 撰寫爬蟲，並存放到合適的資料結構\n"
   ]
  },
  {
   "cell_type": "markdown",
   "metadata": {},
   "source": [
    "## 作業目標\n",
    "\n",
    "根據範例 ，完成以下問題：\n",
    "\n",
    "* ① 印出最新文章的「作者」「標題」「時間」\n",
    "* ② 印出第一頁所有文章的「作者」「標題」「時間」\n"
   ]
  },
  {
   "cell_type": "markdown",
   "metadata": {},
   "source": [
    "### ① 印出最新文章的「作者」「標題」「時間」"
   ]
  },
  {
   "cell_type": "code",
   "execution_count": 36,
   "metadata": {},
   "outputs": [
    {
     "name": "stdout",
     "output_type": "stream",
     "text": [
      "[花邊] 憤怒的獅王！詹姆斯發怒吼慶祝照自比雄獅\n",
      "作者: PttGod (PttGod)\n",
      "時間: Mon Mar  9 20:41:36 2020\n",
      "\n"
     ]
    }
   ],
   "source": [
    "import requests\n",
    "from bs4 import BeautifulSoup\n",
    "\n",
    "url = 'https://www.ptt.cc/bbs/NBA/index.html'\n",
    "r = requests.get(url,cookies={'over18':'1'})\n",
    "\n",
    "soup = BeautifulSoup(r.text, \"html5lib\")\n",
    "\n",
    "print(soup.find_all(class_=\"title\")[-6].text.replace('\\t', '').replace('\\n', ''))\n",
    "\n",
    "\n",
    "r = BeautifulSoup(requests.get('https://www.ptt.cc'+soup.find_all(class_=\"title\")[-6].find('a')['href'],cookies={'over18':'1'}).text, \"html5lib\")\n",
    "\n",
    "print('作者: ' + r.find_all(class_='article-meta-value')[0].text)\n",
    "print('時間: ' + r.find_all(class_='article-meta-value')[3].text,end=\"\\n\\n\")"
   ]
  },
  {
   "cell_type": "markdown",
   "metadata": {},
   "source": [
    "### ② 印出第一頁所有文章的「作者」「標題」「時間」"
   ]
  },
  {
   "cell_type": "code",
   "execution_count": 42,
   "metadata": {},
   "outputs": [
    {
     "name": "stdout",
     "output_type": "stream",
     "text": [
      "標題:  [問卦] 肥宅要怎樣才不會怕閃電打雷?\n",
      "標題:  [新聞] 睽違7年加倍奉還 日劇半澤直樹2新預告出\n",
      "標題:  [新聞] 武漢解封？ 網傳湖北各機場復工復航準備\n",
      "標題:  Re: [新聞] 美眾院聲援黎智英 陸外交部駐港公署：賊\n",
      "標題:  [問卦] 美股開盤跌1800點？\n",
      "標題:  [問卦] 玩命關頭來台灣拍要飇哪一條路最爽?\n",
      "標題:  [問卦] 沒有結婚的人生是怎樣？\n",
      "標題:  [爆卦] 見證歷史的奇蹟 美股直接熔斷!!!\n",
      "標題:  Re: [問卦] 欸欸為什麼安樂死一堆人反對？\n",
      "標題:  [問卦] 貿易戰進度到哪了\n",
      "標題:  Re: [問卦] 急，中國人問灣灣憑什麼有優越感？\n",
      "標題:  [問卦] 劈腿神人的八卦？\n",
      "標題:  [問卦] 接上降壓器後的電器好沒力欸\n",
      "標題:  Re: [問卦] 政大研學會總幹事偷a學生會經費，怎辦\n",
      "標題:  [公告] 八卦板政治文規範草案開始討論\n",
      "標題:  [公告] 八卦優文推薦申請\n",
      "標題:  [公告] 八卦板板規(2019.08.21)\n",
      "標題:  [公告] 三月份置底閒聊文\n",
      "標題:  [公告] 板主報名截止時間 3/10 11:07:43\n"
     ]
    }
   ],
   "source": [
    "for d in soup.find_all(class_=\"title\"):\n",
    "    print('標題: ',d.text.replace('\\t', '').replace('\\n', ''))\n",
    "    try:\n",
    "        r = BeautifulSoup(requests.get('https://www.ptt.cc'+d.find('a')['href']).text, \"html5lib\")\n",
    "        print('作者: ' + r.find_all(class_='article-meta-value')[0].text)\n",
    "        print('時間: ' + r.find_all(class_='article-meta-value')[3].text,end=\"\\n\\n\")\n",
    "    except:\n",
    "        continue"
   ]
  },
  {
   "cell_type": "markdown",
   "metadata": {},
   "source": [
    "### ③ 試著爬爬看其他版的文章"
   ]
  },
  {
   "cell_type": "code",
   "execution_count": 41,
   "metadata": {},
   "outputs": [
    {
     "name": "stdout",
     "output_type": "stream",
     "text": [
      "[問卦] 肥宅要怎樣才不會怕閃電打雷?\n",
      "[新聞] 睽違7年加倍奉還 日劇半澤直樹2新預告出\n",
      "[新聞] 武漢解封？ 網傳湖北各機場復工復航準備\n",
      "Re: [新聞] 美眾院聲援黎智英 陸外交部駐港公署：賊\n",
      "[問卦] 美股開盤跌1800點？\n",
      "[問卦] 玩命關頭來台灣拍要飇哪一條路最爽?\n",
      "[問卦] 沒有結婚的人生是怎樣？\n",
      "[爆卦] 見證歷史的奇蹟 美股直接熔斷!!!\n",
      "Re: [問卦] 欸欸為什麼安樂死一堆人反對？\n",
      "[問卦] 貿易戰進度到哪了\n",
      "Re: [問卦] 急，中國人問灣灣憑什麼有優越感？\n",
      "[問卦] 劈腿神人的八卦？\n",
      "[問卦] 接上降壓器後的電器好沒力欸\n",
      "Re: [問卦] 政大研學會總幹事偷a學生會經費，怎辦\n",
      "[公告] 八卦板政治文規範草案開始討論\n",
      "[公告] 八卦優文推薦申請\n",
      "[公告] 八卦板板規(2019.08.21)\n",
      "[公告] 三月份置底閒聊文\n",
      "[公告] 板主報名截止時間 3/10 11:07:43\n"
     ]
    }
   ],
   "source": [
    "url = 'https://www.ptt.cc/bbs/Gossiping/index.html'\n",
    "r = requests.get(url,cookies={'over18':'1'})\n",
    "\n",
    "soup = BeautifulSoup(r.text, \"html5lib\")\n",
    "goss = soup.find_all(class_='title')\n",
    "for g in goss:\n",
    "    if g.find('a').string!=None:\n",
    "        print(g.find('a').string)"
   ]
  },
  {
   "cell_type": "code",
   "execution_count": null,
   "metadata": {},
   "outputs": [],
   "source": []
  }
 ],
 "metadata": {
  "kernelspec": {
   "display_name": "Python 3",
   "language": "python",
   "name": "python3"
  },
  "language_info": {
   "codemirror_mode": {
    "name": "ipython",
    "version": 3
   },
   "file_extension": ".py",
   "mimetype": "text/x-python",
   "name": "python",
   "nbconvert_exporter": "python",
   "pygments_lexer": "ipython3",
   "version": "3.7.4"
  }
 },
 "nbformat": 4,
 "nbformat_minor": 2
}
