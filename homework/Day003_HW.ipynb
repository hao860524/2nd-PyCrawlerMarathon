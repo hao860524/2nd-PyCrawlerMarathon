{
 "cells": [
  {
   "cell_type": "markdown",
   "metadata": {},
   "source": [
    "# Python 下載XML檔案與解析\n",
    "\n",
    "\n",
    "* 了解 xml 檔案格式與內容\n",
    "* 能夠利用套件存取 xml 格式的檔案\n"
   ]
  },
  {
   "cell_type": "markdown",
   "metadata": {},
   "source": [
    "## 作業目標\n",
    "\n",
    "* 比較一下範例檔案中的「File I/O」與「xmltodict」讀出來的內容有什麼差異\n",
    "\n",
    "* 根據範例檔案的結果：\n",
    "    1. 請問高雄市有多少地區有溫度資料？\n",
    "    2. 請取出每一個地區所記錄的第一個時間點跟溫度\n",
    "    3. 請取出第一個地區所記錄的每一個時間點跟溫度"
   ]
  },
  {
   "cell_type": "markdown",
   "metadata": {},
   "source": [
    "### 比較一下範例檔案中的「File I/O」與「xmltodict」讀出來的內容有什麼差異\n"
   ]
  },
  {
   "cell_type": "code",
   "execution_count": 126,
   "metadata": {},
   "outputs": [],
   "source": [
    "import urllib.request\n",
    "import os, sys\n",
    "\n",
    "res = \"http://opendata.cwb.gov.tw/govdownload?dataid=F-D0047-093&authorizationkey=rdec-key-123-45678-011121314\"\n",
    "# download the file \n",
    "try:\n",
    "    os.makedirs( './data', exist_ok=True )\n",
    "    urllib.request.urlretrieve(res, \"./data/example.zip\")\n",
    "except:\n",
    "    print('發生錯誤！')\n",
    "\n",
    "#unzip the file\n",
    "import zipfile\n",
    "\n",
    "with zipfile.ZipFile('./data/example.zip') as f:\n",
    "    f.extractall('./data')"
   ]
  },
  {
   "cell_type": "markdown",
   "metadata": {},
   "source": [
    "## File I/O"
   ]
  },
  {
   "cell_type": "code",
   "execution_count": null,
   "metadata": {
    "scrolled": true
   },
   "outputs": [],
   "source": [
    "# 讀檔案\n",
    "fh = open(\"./data/64_72hr_CH.xml\", \"r\", encoding=\"utf-8\")\n",
    "xml = fh.read()\n",
    "fh.close()\n",
    "\n",
    "print(xml)"
   ]
  },
  {
   "cell_type": "markdown",
   "metadata": {},
   "source": [
    "## xmltodict"
   ]
  },
  {
   "cell_type": "code",
   "execution_count": 128,
   "metadata": {},
   "outputs": [],
   "source": [
    "# 解析檔案內容\n",
    "import xmltodict\n",
    "d = dict(xmltodict.parse(xml))"
   ]
  },
  {
   "cell_type": "code",
   "execution_count": null,
   "metadata": {},
   "outputs": [],
   "source": [
    "# 取出 datasetDescription\n",
    "datasetDescription = d['cwbopendata']['dataset']['locations']['location']\n",
    "print(datasetDescription)\n"
   ]
  },
  {
   "cell_type": "markdown",
   "metadata": {},
   "source": [
    "### 根據範例檔案的結果：\n",
    "\n",
    "1. 請問高雄市有多少地區有溫度資料？\n",
    "2. 請取出每一個地區所記錄的第一個時間點跟溫度\n",
    "3. 請取出第一個地區所記錄的每一個時間點跟溫度"
   ]
  },
  {
   "cell_type": "code",
   "execution_count": 130,
   "metadata": {},
   "outputs": [
    {
     "name": "stdout",
     "output_type": "stream",
     "text": [
      "38個\n"
     ]
    }
   ],
   "source": [
    "# 1. 請問高雄市有多少地區有溫度資料？\n",
    "\n",
    "print(\"{}個\".format(len(datasetDescription)))"
   ]
  },
  {
   "cell_type": "code",
   "execution_count": 131,
   "metadata": {},
   "outputs": [
    {
     "name": "stdout",
     "output_type": "stream",
     "text": [
      "[{'鹽埕區': {'時間': '2020-02-20T00:00:00+08:00', '溫度': '18'}}, {'鼓山區': {'時間': '2020-02-20T00:00:00+08:00', '溫度': '18'}}, {'左營區': {'時間': '2020-02-20T00:00:00+08:00', '溫度': '17'}}, {'楠梓區': {'時間': '2020-02-20T00:00:00+08:00', '溫度': '17'}}, {'三民區': {'時間': '2020-02-20T00:00:00+08:00', '溫度': '17'}}, {'新興區': {'時間': '2020-02-20T00:00:00+08:00', '溫度': '18'}}, {'前金區': {'時間': '2020-02-20T00:00:00+08:00', '溫度': '18'}}, {'苓雅區': {'時間': '2020-02-20T00:00:00+08:00', '溫度': '18'}}, {'前鎮區': {'時間': '2020-02-20T00:00:00+08:00', '溫度': '18'}}, {'旗津區': {'時間': '2020-02-20T00:00:00+08:00', '溫度': '18'}}, {'小港區': {'時間': '2020-02-20T00:00:00+08:00', '溫度': '18'}}, {'鳳山區': {'時間': '2020-02-20T00:00:00+08:00', '溫度': '17'}}, {'林園區': {'時間': '2020-02-20T00:00:00+08:00', '溫度': '18'}}, {'大寮區': {'時間': '2020-02-20T00:00:00+08:00', '溫度': '18'}}, {'大樹區': {'時間': '2020-02-20T00:00:00+08:00', '溫度': '16'}}, {'大社區': {'時間': '2020-02-20T00:00:00+08:00', '溫度': '16'}}, {'仁武區': {'時間': '2020-02-20T00:00:00+08:00', '溫度': '16'}}, {'鳥松區': {'時間': '2020-02-20T00:00:00+08:00', '溫度': '17'}}, {'岡山區': {'時間': '2020-02-20T00:00:00+08:00', '溫度': '16'}}, {'橋頭區': {'時間': '2020-02-20T00:00:00+08:00', '溫度': '16'}}, {'燕巢區': {'時間': '2020-02-20T00:00:00+08:00', '溫度': '16'}}, {'田寮區': {'時間': '2020-02-20T00:00:00+08:00', '溫度': '14'}}, {'阿蓮區': {'時間': '2020-02-20T00:00:00+08:00', '溫度': '14'}}, {'路竹區': {'時間': '2020-02-20T00:00:00+08:00', '溫度': '16'}}, {'湖內區': {'時間': '2020-02-20T00:00:00+08:00', '溫度': '16'}}, {'茄萣區': {'時間': '2020-02-20T00:00:00+08:00', '溫度': '16'}}, {'永安區': {'時間': '2020-02-20T00:00:00+08:00', '溫度': '16'}}, {'彌陀區': {'時間': '2020-02-20T00:00:00+08:00', '溫度': '16'}}, {'梓官區': {'時間': '2020-02-20T00:00:00+08:00', '溫度': '16'}}, {'旗山區': {'時間': '2020-02-20T00:00:00+08:00', '溫度': '15'}}, {'美濃區': {'時間': '2020-02-20T00:00:00+08:00', '溫度': '17'}}, {'六龜區': {'時間': '2020-02-20T00:00:00+08:00', '溫度': '15'}}, {'甲仙區': {'時間': '2020-02-20T00:00:00+08:00', '溫度': '13'}}, {'杉林區': {'時間': '2020-02-20T00:00:00+08:00', '溫度': '15'}}, {'內門區': {'時間': '2020-02-20T00:00:00+08:00', '溫度': '14'}}, {'茂林區': {'時間': '2020-02-20T00:00:00+08:00', '溫度': '15'}}, {'桃源區': {'時間': '2020-02-20T00:00:00+08:00', '溫度': '14'}}, {'那瑪夏區': {'時間': '2020-02-20T00:00:00+08:00', '溫度': '12'}}]\n"
     ]
    }
   ],
   "source": [
    "# 2. 請取出每一個地區所記錄的第一個時間點跟溫度\n",
    "\n",
    "datasetDescription = d['cwbopendata']['dataset']['locations']['location']\n",
    "\n",
    "list_1 = []\n",
    "\n",
    "for location in datasetDescription:\n",
    "    #print(location['locationName'])\n",
    "    for weatherElement in location['weatherElement']:\n",
    "        if (weatherElement['description']=='溫度'):\n",
    "            dataTime = weatherElement['time'][0]['dataTime']\n",
    "            #print(\"時間：{}\".format(dataTime))\n",
    "            \n",
    "            value = weatherElement['time'][0]['elementValue']['value']\n",
    "            measures = weatherElement['time'][0]['elementValue']['measures']\n",
    "            dic = {location['locationName']:{'時間': dataTime, '溫度':value}}\n",
    "            #print(\"{}:{}\".format(measures,value))\n",
    "            \n",
    "            list_1.append(dic)\n",
    "\n",
    "print(list_1)"
   ]
  },
  {
   "cell_type": "code",
   "execution_count": 132,
   "metadata": {},
   "outputs": [
    {
     "name": "stdout",
     "output_type": "stream",
     "text": [
      "[{'時間': '2020-02-20T00:00:00+08:00', '溫度': '18'}, {'時間': '2020-02-20T03:00:00+08:00', '溫度': '17'}, {'時間': '2020-02-20T06:00:00+08:00', '溫度': '16'}, {'時間': '2020-02-20T09:00:00+08:00', '溫度': '18'}, {'時間': '2020-02-20T12:00:00+08:00', '溫度': '23'}, {'時間': '2020-02-20T15:00:00+08:00', '溫度': '24'}, {'時間': '2020-02-20T18:00:00+08:00', '溫度': '22'}, {'時間': '2020-02-20T21:00:00+08:00', '溫度': '20'}, {'時間': '2020-02-21T00:00:00+08:00', '溫度': '19'}, {'時間': '2020-02-21T03:00:00+08:00', '溫度': '18'}, {'時間': '2020-02-21T06:00:00+08:00', '溫度': '18'}, {'時間': '2020-02-21T09:00:00+08:00', '溫度': '19'}, {'時間': '2020-02-21T12:00:00+08:00', '溫度': '24'}, {'時間': '2020-02-21T15:00:00+08:00', '溫度': '24'}, {'時間': '2020-02-21T18:00:00+08:00', '溫度': '23'}, {'時間': '2020-02-21T21:00:00+08:00', '溫度': '21'}, {'時間': '2020-02-22T00:00:00+08:00', '溫度': '20'}, {'時間': '2020-02-22T03:00:00+08:00', '溫度': '19'}, {'時間': '2020-02-22T06:00:00+08:00', '溫度': '18'}, {'時間': '2020-02-22T09:00:00+08:00', '溫度': '20'}, {'時間': '2020-02-22T12:00:00+08:00', '溫度': '24'}, {'時間': '2020-02-22T15:00:00+08:00', '溫度': '25'}, {'時間': '2020-02-22T18:00:00+08:00', '溫度': '23'}, {'時間': '2020-02-22T21:00:00+08:00', '溫度': '22'}]\n"
     ]
    }
   ],
   "source": [
    "# 3. 請取出第一個地區所記錄的每一個時間點跟溫度\n",
    "list_2 = []\n",
    "\n",
    "location = datasetDescription[0]\n",
    "#print(location['locationName'])\n",
    "for weatherElement in location['weatherElement']:\n",
    "    if (weatherElement['description']=='溫度'):\n",
    "        for time in weatherElement['time']:\n",
    "            dataTime = time['dataTime']\n",
    "            #print(\"時間：{}\".format(dataTime))\n",
    "            \n",
    "            value = time['elementValue']['value']\n",
    "            dic = {'時間': dataTime, '溫度':value}\n",
    "    \n",
    "            list_2.append(dic)\n",
    "\n",
    "print(list_2)"
   ]
  }
 ],
 "metadata": {
  "kernelspec": {
   "display_name": "Python 3",
   "language": "python",
   "name": "python3"
  },
  "language_info": {
   "codemirror_mode": {
    "name": "ipython",
    "version": 3
   },
   "file_extension": ".py",
   "mimetype": "text/x-python",
   "name": "python",
   "nbconvert_exporter": "python",
   "pygments_lexer": "ipython3",
   "version": "3.7.4"
  }
 },
 "nbformat": 4,
 "nbformat_minor": 2
}
